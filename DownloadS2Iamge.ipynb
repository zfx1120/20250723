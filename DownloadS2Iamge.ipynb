{
 "cells": [
  {
   "cell_type": "markdown",
   "id": "dcf18a6a",
   "metadata": {},
   "source": [
    "# 安装和导入必要的库"
   ]
  },
  {
   "cell_type": "code",
   "execution_count": 2,
   "id": "b0e45cb5",
   "metadata": {},
   "outputs": [],
   "source": [
    "import os\n",
    "import sys\n",
    "import pandas as pd\n",
    "import requests\n",
    "import json\n",
    "import subprocess\n",
    "import datetime"
   ]
  },
  {
   "cell_type": "markdown",
   "id": "9786ea12",
   "metadata": {},
   "source": [
    "# 基础设置"
   ]
  },
  {
   "cell_type": "code",
   "execution_count": null,
   "id": "466fae0b",
   "metadata": {},
   "outputs": [],
   "source": [
    "# ============================================================================\n",
    "# 请在此处修改您的配置\n",
    "# ============================================================================\n",
    "# 起始日期 (YYYY-MM-DD)\n",
    "startDate = '2025-01-01'\n",
    "# 结束日期 (YYYY-MM-DD)\n",
    "endDate = '2025-06-30'\n",
    "\n",
    "# 所需卫星数据 (例如 'SENTINEL-2', 'SENTINEL-3', 'LANDSAT-ETM-C2-L2')\n",
    "satellite = 'SENTINEL-2'\n",
    "\n",
    "# 检索时文件名需包括的字符串 (对于哨兵2可以用来筛选区块或者产品等级)\n",
    "contains_list = ['L1C', 'RTN']\n",
    "\n",
    "# 感兴趣区域 (ROI) 的 GeoJSON 文件路径\n",
    "# 您可以在 https://geojson.io/ 网站上绘制并导出该文件\n",
    "roi_geojson = 'mapdc.geojson'\n",
    "\n",
    "# 数据和快视图的保存路径\n",
    "output_dir = 'F:/LakeTH/DataBur/'\n",
    "\n",
    "# 哥白尼数据中心账号 (https://dataspace.copernicus.eu/)\n",
    "email=\"221302173@njnu.edu.cn\"\n",
    "# 哥白尼数据中心密码\n",
    "password=\"Ljz@96982000\"\n",
    "# ============================================================================\n",
    "\n",
    "# 确保输出目录存在\n",
    "if not os.path.exists(output_dir):\n",
    "    os.makedirs(output_dir)\n",
    "    print(f\"创建目录: {output_dir}\")"
   ]
  },
  {
   "cell_type": "markdown",
   "id": "d596a213",
   "metadata": {},
   "source": [
    "# 处理ROI地理信息"
   ]
  },
  {
   "cell_type": "code",
   "execution_count": 4,
   "id": "60431e0e",
   "metadata": {},
   "outputs": [
    {
     "name": "stdout",
     "output_type": "stream",
     "text": [
      "ROI坐标处理完成。\n"
     ]
    }
   ],
   "source": [
    "# 从 GeoJSON 文件中读取坐标并格式化为API所需的字符串\n",
    "try:\n",
    "    with open(roi_geojson, 'r') as f:\n",
    "        data = f.read()\n",
    "    geojson_data = json.loads(data)\n",
    "    coordinates = geojson_data['features'][0]['geometry']['coordinates'][0]\n",
    "    \n",
    "    # 将坐标点列表转换为API查询格式的字符串\n",
    "    coordinates_str = ', '.join([f\"{coord[0]} {coord[1]}\" for coord in coordinates])\n",
    "    \n",
    "    # 确保多边形是闭合的\n",
    "    if coordinates[0] != coordinates[-1]:\n",
    "        coordinates_str += f\", {coordinates[0][0]} {coordinates[0][1]}\"\n",
    "        \n",
    "    print(\"ROI坐标处理完成。\")\n",
    "except FileNotFoundError:\n",
    "    print(f\"错误: GeoJSON 文件未找到: {roi_geojson}\")\n",
    "    sys.exit()\n",
    "except (KeyError, IndexError) as e:\n",
    "    print(f\"错误: GeoJSON 文件格式不正确。请确保它包含有效的多边形坐标。错误详情: {e}\")\n",
    "    sys.exit()"
   ]
  },
  {
   "cell_type": "markdown",
   "id": "b26390c8",
   "metadata": {},
   "source": [
    "# 生成检索链接"
   ]
  },
  {
   "cell_type": "code",
   "execution_count": 5,
   "id": "23c890c0",
   "metadata": {},
   "outputs": [
    {
     "name": "stdout",
     "output_type": "stream",
     "text": [
      "检索URL已生成:\n",
      "https://catalogue.dataspace.copernicus.eu/odata/v1/Products?$filter=(contains(Name,'L1C') and contains(Name,'RTN')) and Collection/Name eq 'SENTINEL-2' and OData.CSC.Intersects(area=geography'SRID=4326;POLYGON((102.68959377414325 24.8874461373789, 102.68959377414325 24.83731300905565, 102.72877059111312 24.83731300905565, 102.72877059111312 24.8874461373789, 102.68959377414325 24.8874461373789))') and ContentDate/Start gt 2025-01-01T00:00:00.000Z and ContentDate/Start lt 2025-06-30T23:59:59.999Z&$top=1000&$expand=Assets\n"
     ]
    }
   ],
   "source": [
    "# 基础前缀\n",
    "base_prefix = \"https://catalogue.dataspace.copernicus.eu/odata/v1/Products?$filter=\"\n",
    "\n",
    "# -- 构建检索条件 --\n",
    "# 初始化一个过滤器列表\n",
    "filters = []\n",
    "\n",
    "# 1. 名称包含 (如果 contains_list 不为空，则构建 OR 条件)\n",
    "if contains_list:\n",
    "    name_filters = [f\"contains(Name,'{s}')\" for s in contains_list]\n",
    "    # 将多个 or 条件用括号括起来\n",
    "    filters.append(f\"({ ' and '.join(name_filters) })\")\n",
    "\n",
    "# 2. 卫星平台\n",
    "filters.append(f\"Collection/Name eq '{satellite}'\")\n",
    "\n",
    "# 3. 地理范围\n",
    "filters.append(f\"OData.CSC.Intersects(area=geography'SRID=4326;POLYGON(({coordinates_str}))')\")\n",
    "\n",
    "# 4. 时间范围\n",
    "filters.append(f\"ContentDate/Start gt {startDate}T00:00:00.000Z and ContentDate/Start lt {endDate}T23:59:59.999Z\")\n",
    "\n",
    "# -- 构建检索属性 --\n",
    "# 1. 结果上限 (最大 1000)\n",
    "search_lim = \"&$top=1000\"\n",
    "# 2. 扩展属性 (为了获取快视图和下载链接)\n",
    "expand_assets = \"&$expand=Assets\"\n",
    "\n",
    "# -- 组合成最终的检索链接 --\n",
    "# 使用 ' and ' 连接所有有效的过滤条件\n",
    "request_url = f\"{base_prefix}{' and '.join(filters)}{search_lim}{expand_assets}\"\n",
    "\n",
    "print(\"检索URL已生成:\")\n",
    "print(request_url)"
   ]
  },
  {
   "cell_type": "markdown",
   "id": "0345896f",
   "metadata": {},
   "source": [
    "# 执行检索并显示结果"
   ]
  },
  {
   "cell_type": "code",
   "execution_count": 6,
   "id": "9962af08",
   "metadata": {},
   "outputs": [
    {
     "name": "stdout",
     "output_type": "stream",
     "text": [
      "\n",
      "正在向服务器发送检索请求...\n",
      "查询成功！共找到 41 条数据。\n",
      "\n",
      "数据检索结果预览:\n",
      "                                     Id  \\\n",
      "0  ccf6c6a3-509e-4c16-bfa7-7a70bb8ad82e   \n",
      "1  83868a84-a9a1-41db-9f05-1457f73815ca   \n",
      "2  f54e972f-7fad-4e1d-89e1-7a3bbe1fb18f   \n",
      "3  5899b701-80cb-44d3-b2f0-18b5148a0baa   \n",
      "4  6850f858-a139-413b-9304-32f77afa6add   \n",
      "\n",
      "                                                Name  \\\n",
      "0  S2B_MSIL1C_20250520T033539_N0511_R061_T48RTN_2...   \n",
      "1  S2C_MSIL1C_20250415T033601_N0511_R061_T48RTN_2...   \n",
      "2  S2B_MSIL1C_20250609T033539_N0511_R061_T48RTN_2...   \n",
      "3  S2A_MSIL1C_20250626T034201_N0511_R061_T48RTN_2...   \n",
      "4  S2B_MSIL1C_20250510T033539_N0511_R061_T48RTN_2...   \n",
      "\n",
      "                                         ContentDate  \\\n",
      "0  {'Start': '2025-05-20T03:35:39.024000Z', 'End'...   \n",
      "1  {'Start': '2025-04-15T03:36:01.024000Z', 'End'...   \n",
      "2  {'Start': '2025-06-09T03:35:39.024000Z', 'End'...   \n",
      "3  {'Start': '2025-06-26T03:42:01.024000Z', 'End'...   \n",
      "4  {'Start': '2025-05-10T03:35:39.024000Z', 'End'...   \n",
      "\n",
      "                                              S3Path  \n",
      "0  /eodata/Sentinel-2/MSI/L1C/2025/05/20/S2B_MSIL...  \n",
      "1  /eodata/Sentinel-2/MSI/L1C/2025/04/15/S2C_MSIL...  \n",
      "2  /eodata/Sentinel-2/MSI/L1C/2025/06/09/S2B_MSIL...  \n",
      "3  /eodata/Sentinel-2/MSI/L1C/2025/06/26/S2A_MSIL...  \n",
      "4  /eodata/Sentinel-2/MSI/L1C/2025/05/10/S2B_MSIL...  \n"
     ]
    }
   ],
   "source": [
    "print(\"\\n正在向服务器发送检索请求...\")\n",
    "try:\n",
    "    response = requests.get(request_url)\n",
    "    response.raise_for_status()  # 如果请求失败 (如 404, 500), 则会抛出异常\n",
    "    JSON = response.json()\n",
    "    \n",
    "    if 'value' not in JSON or not JSON['value']:\n",
    "        print('未查询到任何数据，请检查您的检索条件。')\n",
    "        sys.exit()\n",
    "        \n",
    "    df = pd.DataFrame.from_dict(JSON['value'])\n",
    "    print(f'查询成功！共找到 {len(df)} 条数据。')\n",
    "\n",
    "    # 打印部分关键信息\n",
    "    columns_to_print = ['Id', 'Name', 'ContentDate', 'S3Path']\n",
    "    print(\"\\n数据检索结果预览:\")\n",
    "    print(df[columns_to_print].head())\n",
    "\n",
    "except requests.exceptions.RequestException as e:\n",
    "    print(f\"网络请求失败: {e}\")\n",
    "    sys.exit()\n",
    "except json.JSONDecodeError:\n",
    "    print(\"无法解析服务器返回的JSON数据，请检查API状态或URL。\")\n",
    "    sys.exit()\n"
   ]
  },
  {
   "cell_type": "markdown",
   "id": "ff1d6d7c",
   "metadata": {},
   "source": [
    "# 下载快视图 (Quicklooks)"
   ]
  },
  {
   "cell_type": "code",
   "execution_count": 7,
   "id": "39ebeb17",
   "metadata": {},
   "outputs": [
    {
     "name": "stdout",
     "output_type": "stream",
     "text": [
      "\n",
      "开始下载快视图...\n",
      "快视图已存在，跳过: S2B_MSIL1C_20250520T033539_N0511_R061_T48RTN_20250520T054401.SAFE_quicklook.jpg\n",
      "快视图已存在，跳过: S2C_MSIL1C_20250415T033601_N0511_R061_T48RTN_20250415T071417.SAFE_quicklook.jpg\n",
      "快视图已存在，跳过: S2B_MSIL1C_20250609T033539_N0511_R061_T48RTN_20250609T054504.SAFE_quicklook.jpg\n",
      "快视图已存在，跳过: S2A_MSIL1C_20250626T034201_N0511_R061_T48RTN_20250626T060016.SAFE_quicklook.jpg\n",
      "快视图已存在，跳过: S2B_MSIL1C_20250510T033539_N0511_R061_T48RTN_20250510T054318.SAFE_quicklook.jpg\n",
      "快视图已存在，跳过: S2B_MSIL1C_20250420T033539_N0511_R061_T48RTN_20250420T054304.SAFE_quicklook.jpg\n",
      "快视图已存在，跳过: S2C_MSIL1C_20250405T033601_N0511_R061_T48RTN_20250405T071222.SAFE_quicklook.jpg\n",
      "快视图已存在，跳过: S2C_MSIL1C_20250604T033601_N0511_R061_T48RTN_20250604T070922.SAFE_quicklook.jpg\n",
      "快视图已存在，跳过: S2A_MSIL1C_20250606T034201_N0511_R061_T48RTN_20250606T060459.SAFE_quicklook.jpg\n",
      "快视图已存在，跳过: S2A_MSIL1C_20250407T034201_N0511_R061_T48RTN_20250407T071654.SAFE_quicklook.jpg\n",
      "快视图已存在，跳过: S2C_MSIL1C_20250525T033551_N0511_R061_T48RTN_20250525T055818.SAFE_quicklook.jpg\n",
      "快视图已存在，跳过: S2B_MSIL1C_20250410T033539_N0511_R061_T48RTN_20250410T070358.SAFE_quicklook.jpg\n",
      "快视图已存在，跳过: S2C_MSIL1C_20250614T033551_N0511_R061_T48RTN_20250614T071225.SAFE_quicklook.jpg\n",
      "快视图已存在，跳过: S2C_MSIL1C_20250425T033601_N0511_R061_T48RTN_20250425T071527.SAFE_quicklook.jpg\n",
      "快视图已存在，跳过: S2C_MSIL1C_20250515T033551_N0511_R061_T48RTN_20250515T071159.SAFE_quicklook.jpg\n",
      "快视图已存在，跳过: S2C_MSIL1C_20250505T033601_N0511_R061_T48RTN_20250505T071347.SAFE_quicklook.jpg\n",
      "快视图已存在，跳过: S2B_MSIL1C_20250430T033539_N0511_R061_T48RTN_20250430T054327.SAFE_quicklook.jpg\n",
      "快视图已存在，跳过: S2B_MSIL1C_20250619T033539_N0511_R061_T48RTN_20250619T054517.SAFE_quicklook.jpg\n",
      "快视图已存在，跳过: S2A_MSIL1C_20250427T034201_N0511_R061_T48RTN_20250427T071514.SAFE_quicklook.jpg\n",
      "快视图已存在，跳过: S2B_MSIL1C_20250530T033539_N0511_R061_T48RTN_20250530T070209.SAFE_quicklook.jpg\n",
      "快视图已存在，跳过: S2A_MSIL1C_20250517T034201_N0511_R061_T48RTN_20250517T060106.SAFE_quicklook.jpg\n",
      "快视图已存在，跳过: S2B_MSIL1C_20250629T033539_N0511_R061_T48RTN_20250629T061156.SAFE_quicklook.jpg\n",
      "快视图已存在，跳过: S2A_MSIL1C_20250105T034131_N0511_R061_T48RTN_20250105T053447.SAFE_quicklook.jpg\n",
      "快视图已存在，跳过: S2B_MSIL1C_20250120T033959_N0511_R061_T48RTN_20250120T055146.SAFE_quicklook.jpg\n",
      "快视图已存在，跳过: S2C_MSIL1C_20250214T033901_N0511_R061_T48RTN_20250214T071332.SAFE_quicklook.jpg\n",
      "快视图已存在，跳过: S2B_MSIL1C_20250311T033539_N0511_R061_T48RTN_20250311T070302.SAFE_quicklook.jpg\n",
      "快视图已存在，跳过: S2B_MSIL1C_20250130T033909_N0511_R061_T48RTN_20250130T060546.SAFE_quicklook.jpg\n",
      "快视图已存在，跳过: S2B_MSIL1C_20250331T033539_N0511_R061_T48RTN_20250331T070318.SAFE_quicklook.jpg\n",
      "快视图已存在，跳过: S2C_MSIL1C_20250204T034001_N0511_R061_T48RTN_20250204T071135.SAFE_quicklook.jpg\n",
      "快视图已存在，跳过: S2C_MSIL1C_20250224T033751_N0511_R061_T48RTN_20250224T071206.SAFE_quicklook.jpg\n",
      "快视图已存在，跳过: S2B_MSIL1C_20250321T033539_N0511_R061_T48RTN_20250321T070929.SAFE_quicklook.jpg\n",
      "快视图已存在，跳过: S2B_MSIL1C_20250301T033559_N0511_R061_T48RTN_20250301T055053.SAFE_quicklook.jpg\n",
      "快视图已存在，跳过: S2C_MSIL1C_20250316T033601_N0511_R061_T48RTN_20250316T071112.SAFE_quicklook.jpg\n",
      "快视图已存在，跳过: S2C_MSIL1C_20250326T033601_N0511_R061_T48RTN_20250326T071228.SAFE_quicklook.jpg\n",
      "快视图已存在，跳过: S2B_MSIL1C_20250110T034029_N0511_R061_T48RTN_20250110T055154.SAFE_quicklook.jpg\n",
      "快视图已存在，跳过: S2A_MSIL1C_20250115T034111_N0511_R061_T48RTN_20250115T054027.SAFE_quicklook.jpg\n",
      "快视图已存在，跳过: S2B_MSIL1C_20250209T033819_N0511_R061_T48RTN_20250209T054633.SAFE_quicklook.jpg\n",
      "快视图已存在，跳过: S2C_MSIL1C_20250125T034101_N0511_R061_T48RTN_20250125T052907.SAFE_quicklook.jpg\n",
      "快视图已存在，跳过: S2B_MSIL1C_20250219T033709_N0511_R061_T48RTN_20250219T055352.SAFE_quicklook.jpg\n",
      "快视图已存在，跳过: S2A_MSIL1C_20250318T034201_N0511_R061_T48RTN_20250318T094248.SAFE_quicklook.jpg\n",
      "快视图已存在，跳过: S2C_MSIL1C_20250306T033641_N0511_R061_T48RTN_20250306T071155.SAFE_quicklook.jpg\n"
     ]
    }
   ],
   "source": [
    "print(\"\\n开始下载快视图...\")\n",
    "quicklook_dir = os.path.join(output_dir, 'quicklooks')\n",
    "if not os.path.exists(quicklook_dir):\n",
    "    os.makedirs(quicklook_dir)\n",
    "    print(f\"创建快视图目录: {quicklook_dir}\")\n",
    "\n",
    "# 提取快视图下载链接\n",
    "try:\n",
    "    # 筛选出类型为 'QUICKLOOK' 的资产并获取其下载链接\n",
    "    df['QuicklookUrl'] = df['Assets'].apply(lambda assets: next((asset['DownloadLink'] for asset in assets if asset.get('Type') == 'QUICKLOOK'), None))\n",
    "    \n",
    "    quicklook_downloads = df[df['QuicklookUrl'].notna()]\n",
    "\n",
    "    if quicklook_downloads.empty:\n",
    "        print(\"未在检索结果中找到可用的快视图。\")\n",
    "    else:\n",
    "        for index, row in quicklook_downloads.iterrows():\n",
    "            quicklook_url = row['QuicklookUrl']\n",
    "            # 使用产品名来命名快视图文件，更具可读性\n",
    "            file_name = f\"{row['Name']}_quicklook.jpg\"\n",
    "            save_path = os.path.join(quicklook_dir, file_name)\n",
    "            \n",
    "            if os.path.exists(save_path):\n",
    "                print(f\"快视图已存在，跳过: {file_name}\")\n",
    "                continue\n",
    "\n",
    "            try:\n",
    "                print(f\"正在下载快视图: {file_name}\")\n",
    "                ql_response = requests.get(quicklook_url, stream=True)\n",
    "                ql_response.raise_for_status()\n",
    "                with open(save_path, 'wb') as f:\n",
    "                    for chunk in ql_response.iter_content(chunk_size=8192):\n",
    "                        f.write(chunk)\n",
    "                print(f\"快视图下载成功: {file_name}\")\n",
    "            except requests.exceptions.RequestException as e:\n",
    "                print(f\"下载快视图失败: {file_name}. 错误: {e}\")\n",
    "\n",
    "except KeyError:\n",
    "    print(\"错误: 'Assets' 字段不存在，无法获取快视图。请确保检索URL中包含 '&$expand=Assets'。\")"
   ]
  },
  {
   "cell_type": "markdown",
   "id": "192de77a",
   "metadata": {},
   "source": [
    "# 获取访问令牌 (Access Token)"
   ]
  },
  {
   "cell_type": "code",
   "execution_count": 8,
   "id": "5d9561a4",
   "metadata": {},
   "outputs": [],
   "source": [
    "def get_access_token(username: str, password: str) -> str:\n",
    "    \"\"\"\n",
    "    使用用户名和密码获取访问令牌。\n",
    "    \"\"\"\n",
    "    data = {\n",
    "        \"client_id\": \"cdse-public\",\n",
    "        \"username\": username,\n",
    "        \"password\": password,\n",
    "        \"grant_type\": \"password\",\n",
    "    }\n",
    "    try:\n",
    "        r = requests.post(\n",
    "            \"https://identity.dataspace.copernicus.eu/auth/realms/CDSE/protocol/openid-connect/token\",\n",
    "            data=data,\n",
    "        )\n",
    "        r.raise_for_status()\n",
    "        print(\"成功获取新的 Access Token。\")\n",
    "        return r.json()[\"access_token\"]\n",
    "    except requests.exceptions.RequestException as e:\n",
    "        print(f\"获取 Access Token 失败: {e}\")\n",
    "        if hasattr(e, 'response') and e.response is not None:\n",
    "            print(f\"服务器响应: {e.response.text}\")\n",
    "        return None"
   ]
  },
  {
   "cell_type": "markdown",
   "id": "6622a55e",
   "metadata": {},
   "source": [
    "# 下载完整的卫星数据"
   ]
  },
  {
   "cell_type": "code",
   "execution_count": null,
   "id": "0094389b",
   "metadata": {},
   "outputs": [
    {
     "name": "stdout",
     "output_type": "stream",
     "text": [
      "\n",
      "开始下载完整的卫星数据产品...\n",
      "[16:25:44] 文件已存在，跳过: S2B_MSIL1C_20250520T033539_N0511_R061_T48RTN_20250520T054401.SAFE\n",
      "成功获取新的 Access Token。\n",
      "[16:25:45] 开始下载: S2C_MSIL1C_20250415T033601_N0511_R061_T48RTN_20250415T071417.SAFE\n",
      "\n",
      "[16:28:28] 下载成功: S2C_MSIL1C_20250415T033601_N0511_R061_T48RTN_20250415T071417.SAFE\n",
      "成功获取新的 Access Token。\n",
      "[16:28:29] 开始下载: S2B_MSIL1C_20250609T033539_N0511_R061_T48RTN_20250609T054504.SAFE\n"
     ]
    }
   ],
   "source": [
    "print(\"\\n开始下载完整的卫星数据产品...\")\n",
    "\n",
    "data_id_list = df.Id.tolist()\n",
    "data_name_list = df.Name.tolist()\n",
    "\n",
    "for i in range(len(data_id_list)):\n",
    "    data_id = data_id_list[i]\n",
    "    data_name = data_name_list[i]\n",
    "    output_path = os.path.join(output_dir, data_name + '.zip')\n",
    "    \n",
    "    if os.path.exists(output_path):\n",
    "        print(f\"[{datetime.datetime.now().strftime('%H:%M:%S')}] 文件已存在，跳过: {data_name}\")\n",
    "        continue\n",
    "\n",
    "    # 每次下载前都获取一个新的Token，以防过期 (Token有效期为10分钟)\n",
    "    access_token = get_access_token(email, password)\n",
    "    if not access_token:\n",
    "        print(\"无法获取Access Token，跳过本次下载。\")\n",
    "        continue\n",
    "\n",
    "    # 构建wget命令\n",
    "    download_url = f\"https://catalogue.dataspace.copernicus.eu/odata/v1/Products({data_id})/$value\"\n",
    "    command = [\n",
    "        'wget',\n",
    "        '--header', f'Authorization: Bearer {access_token}',\n",
    "        '--no-check-certificate', # 有时需要忽略证书检查\n",
    "        '-O', output_path,\n",
    "        download_url\n",
    "    ]\n",
    "    \n",
    "    try:\n",
    "        print(f\"[{datetime.datetime.now().strftime('%H:%M:%S')}] 开始下载: {data_name}\")\n",
    "        # 【修改】移除 capture_output=True，让 wget 的输出直接显示在控制台\n",
    "        # 这将允许您看到实时的下载进度条、网速和剩余时间\n",
    "        subprocess.run(command, check=True)\n",
    "        print(f\"\\n[{datetime.datetime.now().strftime('%H:%M:%S')}] 下载成功: {data_name}\")\n",
    "    except FileNotFoundError:\n",
    "        print(\"错误: 'wget' 命令未找到。请确保您已安装wget并将其添加到了系统环境变量中。\")\n",
    "        sys.exit()\n",
    "    except subprocess.CalledProcessError as e:\n",
    "        # 下载失败时，wget 会将错误信息直接打印到控制台，所以这里只记录失败事件\n",
    "        print(f\"\\n[{datetime.datetime.now().strftime('%H:%M:%S')}] 下载失败: {data_name}\")\n",
    "\n",
    "print(\"\\n所有任务完成。\")\n"
   ]
  }
 ],
 "metadata": {
  "kernelspec": {
   "display_name": "ts",
   "language": "python",
   "name": "python3"
  },
  "language_info": {
   "codemirror_mode": {
    "name": "ipython",
    "version": 3
   },
   "file_extension": ".py",
   "mimetype": "text/x-python",
   "name": "python",
   "nbconvert_exporter": "python",
   "pygments_lexer": "ipython3",
   "version": "3.9.23"
  }
 },
 "nbformat": 4,
 "nbformat_minor": 5
}
